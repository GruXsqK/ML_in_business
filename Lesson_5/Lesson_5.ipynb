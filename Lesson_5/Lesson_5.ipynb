{
 "cells": [
  {
   "cell_type": "markdown",
   "metadata": {},
   "source": [
    "__1. Прочитайте базу my_BRENT2019.csv и перейдите к представлению ряда первыми разностями.__"
   ]
  },
  {
   "cell_type": "code",
   "execution_count": 1,
   "metadata": {},
   "outputs": [],
   "source": [
    "%matplotlib inline\n",
    "import matplotlib.pyplot as plt\n",
    "\n",
    "import numpy as np\n",
    "import pandas as pd"
   ]
  },
  {
   "cell_type": "code",
   "execution_count": 2,
   "metadata": {},
   "outputs": [
    {
     "data": {
      "text/html": [
       "<div>\n",
       "<style scoped>\n",
       "    .dataframe tbody tr th:only-of-type {\n",
       "        vertical-align: middle;\n",
       "    }\n",
       "\n",
       "    .dataframe tbody tr th {\n",
       "        vertical-align: top;\n",
       "    }\n",
       "\n",
       "    .dataframe thead th {\n",
       "        text-align: right;\n",
       "    }\n",
       "</style>\n",
       "<table border=\"1\" class=\"dataframe\">\n",
       "  <thead>\n",
       "    <tr style=\"text-align: right;\">\n",
       "      <th></th>\n",
       "      <th>brent_diff</th>\n",
       "    </tr>\n",
       "    <tr>\n",
       "      <th>Дата</th>\n",
       "      <th></th>\n",
       "    </tr>\n",
       "  </thead>\n",
       "  <tbody>\n",
       "    <tr>\n",
       "      <th>2010-09-01</th>\n",
       "      <td>0.00</td>\n",
       "    </tr>\n",
       "    <tr>\n",
       "      <th>2010-09-02</th>\n",
       "      <td>0.52</td>\n",
       "    </tr>\n",
       "    <tr>\n",
       "      <th>2010-09-03</th>\n",
       "      <td>-0.32</td>\n",
       "    </tr>\n",
       "    <tr>\n",
       "      <th>2010-09-04</th>\n",
       "      <td>0.05</td>\n",
       "    </tr>\n",
       "    <tr>\n",
       "      <th>2010-09-05</th>\n",
       "      <td>0.01</td>\n",
       "    </tr>\n",
       "  </tbody>\n",
       "</table>\n",
       "</div>"
      ],
      "text/plain": [
       "            brent_diff\n",
       "Дата                  \n",
       "2010-09-01        0.00\n",
       "2010-09-02        0.52\n",
       "2010-09-03       -0.32\n",
       "2010-09-04        0.05\n",
       "2010-09-05        0.01"
      ]
     },
     "execution_count": 2,
     "metadata": {},
     "output_type": "execute_result"
    }
   ],
   "source": [
    "path_brent = '../data/my_BRENT2019.csv'\n",
    "brent = pd.read_csv(path_brent, index_col=[0], parse_dates=[0], usecols=['Дата', 'Значение'])\n",
    "brent['brent_diff'] = brent['Значение'].diff(1).fillna(0)\n",
    "brent.drop(columns='Значение', inplace=True)\n",
    "brent.head()"
   ]
  },
  {
   "cell_type": "markdown",
   "metadata": {},
   "source": [
    "__2. Добавьте первые разности по стоимости доллара и евро к рублю.__"
   ]
  },
  {
   "cell_type": "code",
   "execution_count": 3,
   "metadata": {},
   "outputs": [
    {
     "data": {
      "text/html": [
       "<div>\n",
       "<style scoped>\n",
       "    .dataframe tbody tr th:only-of-type {\n",
       "        vertical-align: middle;\n",
       "    }\n",
       "\n",
       "    .dataframe tbody tr th {\n",
       "        vertical-align: top;\n",
       "    }\n",
       "\n",
       "    .dataframe thead th {\n",
       "        text-align: right;\n",
       "    }\n",
       "</style>\n",
       "<table border=\"1\" class=\"dataframe\">\n",
       "  <thead>\n",
       "    <tr style=\"text-align: right;\">\n",
       "      <th></th>\n",
       "      <th>curs</th>\n",
       "    </tr>\n",
       "  </thead>\n",
       "  <tbody>\n",
       "    <tr>\n",
       "      <th>2010-09-01</th>\n",
       "      <td>30.8669</td>\n",
       "    </tr>\n",
       "    <tr>\n",
       "      <th>2010-09-02</th>\n",
       "      <td>30.8001</td>\n",
       "    </tr>\n",
       "    <tr>\n",
       "      <th>2010-09-03</th>\n",
       "      <td>30.6858</td>\n",
       "    </tr>\n",
       "    <tr>\n",
       "      <th>2010-09-04</th>\n",
       "      <td>30.6922</td>\n",
       "    </tr>\n",
       "    <tr>\n",
       "      <th>2010-09-07</th>\n",
       "      <td>30.5771</td>\n",
       "    </tr>\n",
       "  </tbody>\n",
       "</table>\n",
       "</div>"
      ],
      "text/plain": [
       "               curs\n",
       "2010-09-01  30.8669\n",
       "2010-09-02  30.8001\n",
       "2010-09-03  30.6858\n",
       "2010-09-04  30.6922\n",
       "2010-09-07  30.5771"
      ]
     },
     "execution_count": 3,
     "metadata": {},
     "output_type": "execute_result"
    }
   ],
   "source": [
    "rub_doll=pd.read_excel('../data/RC_F01_09_2010_T01_09_2019.xlsx')\n",
    "rub_doll.index = pd.to_datetime(rub_doll['data'].values).date\n",
    "rub_doll.drop(['nominal','cdx','data'], axis=1, inplace = True)\n",
    "rub_doll.head()"
   ]
  },
  {
   "cell_type": "code",
   "execution_count": 4,
   "metadata": {},
   "outputs": [
    {
     "data": {
      "text/html": [
       "<div>\n",
       "<style scoped>\n",
       "    .dataframe tbody tr th:only-of-type {\n",
       "        vertical-align: middle;\n",
       "    }\n",
       "\n",
       "    .dataframe tbody tr th {\n",
       "        vertical-align: top;\n",
       "    }\n",
       "\n",
       "    .dataframe thead th {\n",
       "        text-align: right;\n",
       "    }\n",
       "</style>\n",
       "<table border=\"1\" class=\"dataframe\">\n",
       "  <thead>\n",
       "    <tr style=\"text-align: right;\">\n",
       "      <th></th>\n",
       "      <th>curs</th>\n",
       "    </tr>\n",
       "  </thead>\n",
       "  <tbody>\n",
       "    <tr>\n",
       "      <th>2010-09-01</th>\n",
       "      <td>39.0127</td>\n",
       "    </tr>\n",
       "    <tr>\n",
       "      <th>2010-09-02</th>\n",
       "      <td>39.1654</td>\n",
       "    </tr>\n",
       "    <tr>\n",
       "      <th>2010-09-03</th>\n",
       "      <td>39.2901</td>\n",
       "    </tr>\n",
       "    <tr>\n",
       "      <th>2010-09-04</th>\n",
       "      <td>39.3505</td>\n",
       "    </tr>\n",
       "    <tr>\n",
       "      <th>2010-09-07</th>\n",
       "      <td>39.4720</td>\n",
       "    </tr>\n",
       "  </tbody>\n",
       "</table>\n",
       "</div>"
      ],
      "text/plain": [
       "               curs\n",
       "2010-09-01  39.0127\n",
       "2010-09-02  39.1654\n",
       "2010-09-03  39.2901\n",
       "2010-09-04  39.3505\n",
       "2010-09-07  39.4720"
      ]
     },
     "execution_count": 4,
     "metadata": {},
     "output_type": "execute_result"
    }
   ],
   "source": [
    "rub_e=pd.read_excel('../data/R_E01_09_2010_T01_09_2019.xlsx')\n",
    "rub_e.index = pd.to_datetime(rub_e['data'].values).date\n",
    "rub_e.drop(['nominal','cdx','data'], axis=1, inplace = True)\n",
    "rub_e.head()"
   ]
  },
  {
   "cell_type": "code",
   "execution_count": 5,
   "metadata": {},
   "outputs": [
    {
     "data": {
      "text/html": [
       "<div>\n",
       "<style scoped>\n",
       "    .dataframe tbody tr th:only-of-type {\n",
       "        vertical-align: middle;\n",
       "    }\n",
       "\n",
       "    .dataframe tbody tr th {\n",
       "        vertical-align: top;\n",
       "    }\n",
       "\n",
       "    .dataframe thead th {\n",
       "        text-align: right;\n",
       "    }\n",
       "</style>\n",
       "<table border=\"1\" class=\"dataframe\">\n",
       "  <thead>\n",
       "    <tr style=\"text-align: right;\">\n",
       "      <th></th>\n",
       "      <th>brent_diff</th>\n",
       "      <th>usd_diff</th>\n",
       "      <th>eur_diff</th>\n",
       "    </tr>\n",
       "    <tr>\n",
       "      <th>Дата</th>\n",
       "      <th></th>\n",
       "      <th></th>\n",
       "      <th></th>\n",
       "    </tr>\n",
       "  </thead>\n",
       "  <tbody>\n",
       "    <tr>\n",
       "      <th>2019-08-21</th>\n",
       "      <td>0.33</td>\n",
       "      <td>0.1758</td>\n",
       "      <td>0.0282</td>\n",
       "    </tr>\n",
       "    <tr>\n",
       "      <th>2019-08-22</th>\n",
       "      <td>-0.33</td>\n",
       "      <td>-0.5210</td>\n",
       "      <td>-0.4777</td>\n",
       "    </tr>\n",
       "    <tr>\n",
       "      <th>2019-08-23</th>\n",
       "      <td>-1.11</td>\n",
       "      <td>-0.6434</td>\n",
       "      <td>-0.6677</td>\n",
       "    </tr>\n",
       "    <tr>\n",
       "      <th>2019-08-25</th>\n",
       "      <td>-1.13</td>\n",
       "      <td>NaN</td>\n",
       "      <td>NaN</td>\n",
       "    </tr>\n",
       "    <tr>\n",
       "      <th>2019-08-26</th>\n",
       "      <td>0.45</td>\n",
       "      <td>NaN</td>\n",
       "      <td>NaN</td>\n",
       "    </tr>\n",
       "    <tr>\n",
       "      <th>2019-08-27</th>\n",
       "      <td>1.33</td>\n",
       "      <td>0.3689</td>\n",
       "      <td>0.7712</td>\n",
       "    </tr>\n",
       "    <tr>\n",
       "      <th>2019-08-28</th>\n",
       "      <td>0.25</td>\n",
       "      <td>0.2873</td>\n",
       "      <td>0.2136</td>\n",
       "    </tr>\n",
       "    <tr>\n",
       "      <th>2019-08-29</th>\n",
       "      <td>0.53</td>\n",
       "      <td>0.1519</td>\n",
       "      <td>0.0492</td>\n",
       "    </tr>\n",
       "    <tr>\n",
       "      <th>2019-08-30</th>\n",
       "      <td>-1.18</td>\n",
       "      <td>0.3344</td>\n",
       "      <td>0.2975</td>\n",
       "    </tr>\n",
       "    <tr>\n",
       "      <th>2019-09-01</th>\n",
       "      <td>-0.35</td>\n",
       "      <td>NaN</td>\n",
       "      <td>NaN</td>\n",
       "    </tr>\n",
       "  </tbody>\n",
       "</table>\n",
       "</div>"
      ],
      "text/plain": [
       "            brent_diff  usd_diff  eur_diff\n",
       "Дата                                      \n",
       "2019-08-21        0.33    0.1758    0.0282\n",
       "2019-08-22       -0.33   -0.5210   -0.4777\n",
       "2019-08-23       -1.11   -0.6434   -0.6677\n",
       "2019-08-25       -1.13       NaN       NaN\n",
       "2019-08-26        0.45       NaN       NaN\n",
       "2019-08-27        1.33    0.3689    0.7712\n",
       "2019-08-28        0.25    0.2873    0.2136\n",
       "2019-08-29        0.53    0.1519    0.0492\n",
       "2019-08-30       -1.18    0.3344    0.2975\n",
       "2019-09-01       -0.35       NaN       NaN"
      ]
     },
     "execution_count": 5,
     "metadata": {},
     "output_type": "execute_result"
    }
   ],
   "source": [
    "brent['usd_diff'] = rub_doll['curs'].diff(1)\n",
    "brent['eur_diff'] = rub_e['curs'].diff(1)\n",
    "brent.tail(10)"
   ]
  },
  {
   "cell_type": "markdown",
   "metadata": {},
   "source": [
    "Есть пропуски значений курса, что связано, скорее всего, с выходными днями, когда валюта не торговалась. Поскольку мы используем первые разности, то допустим, что курс за эти дни не менялся, и заполним пропуски нулями."
   ]
  },
  {
   "cell_type": "code",
   "execution_count": 6,
   "metadata": {},
   "outputs": [
    {
     "data": {
      "text/html": [
       "<div>\n",
       "<style scoped>\n",
       "    .dataframe tbody tr th:only-of-type {\n",
       "        vertical-align: middle;\n",
       "    }\n",
       "\n",
       "    .dataframe tbody tr th {\n",
       "        vertical-align: top;\n",
       "    }\n",
       "\n",
       "    .dataframe thead th {\n",
       "        text-align: right;\n",
       "    }\n",
       "</style>\n",
       "<table border=\"1\" class=\"dataframe\">\n",
       "  <thead>\n",
       "    <tr style=\"text-align: right;\">\n",
       "      <th></th>\n",
       "      <th>brent_diff</th>\n",
       "      <th>usd_diff</th>\n",
       "      <th>eur_diff</th>\n",
       "    </tr>\n",
       "    <tr>\n",
       "      <th>Дата</th>\n",
       "      <th></th>\n",
       "      <th></th>\n",
       "      <th></th>\n",
       "    </tr>\n",
       "  </thead>\n",
       "  <tbody>\n",
       "    <tr>\n",
       "      <th>2019-08-21</th>\n",
       "      <td>0.33</td>\n",
       "      <td>0.1758</td>\n",
       "      <td>0.0282</td>\n",
       "    </tr>\n",
       "    <tr>\n",
       "      <th>2019-08-22</th>\n",
       "      <td>-0.33</td>\n",
       "      <td>-0.5210</td>\n",
       "      <td>-0.4777</td>\n",
       "    </tr>\n",
       "    <tr>\n",
       "      <th>2019-08-23</th>\n",
       "      <td>-1.11</td>\n",
       "      <td>-0.6434</td>\n",
       "      <td>-0.6677</td>\n",
       "    </tr>\n",
       "    <tr>\n",
       "      <th>2019-08-25</th>\n",
       "      <td>-1.13</td>\n",
       "      <td>0.0000</td>\n",
       "      <td>0.0000</td>\n",
       "    </tr>\n",
       "    <tr>\n",
       "      <th>2019-08-26</th>\n",
       "      <td>0.45</td>\n",
       "      <td>0.0000</td>\n",
       "      <td>0.0000</td>\n",
       "    </tr>\n",
       "    <tr>\n",
       "      <th>2019-08-27</th>\n",
       "      <td>1.33</td>\n",
       "      <td>0.3689</td>\n",
       "      <td>0.7712</td>\n",
       "    </tr>\n",
       "    <tr>\n",
       "      <th>2019-08-28</th>\n",
       "      <td>0.25</td>\n",
       "      <td>0.2873</td>\n",
       "      <td>0.2136</td>\n",
       "    </tr>\n",
       "    <tr>\n",
       "      <th>2019-08-29</th>\n",
       "      <td>0.53</td>\n",
       "      <td>0.1519</td>\n",
       "      <td>0.0492</td>\n",
       "    </tr>\n",
       "    <tr>\n",
       "      <th>2019-08-30</th>\n",
       "      <td>-1.18</td>\n",
       "      <td>0.3344</td>\n",
       "      <td>0.2975</td>\n",
       "    </tr>\n",
       "    <tr>\n",
       "      <th>2019-09-01</th>\n",
       "      <td>-0.35</td>\n",
       "      <td>0.0000</td>\n",
       "      <td>0.0000</td>\n",
       "    </tr>\n",
       "  </tbody>\n",
       "</table>\n",
       "</div>"
      ],
      "text/plain": [
       "            brent_diff  usd_diff  eur_diff\n",
       "Дата                                      \n",
       "2019-08-21        0.33    0.1758    0.0282\n",
       "2019-08-22       -0.33   -0.5210   -0.4777\n",
       "2019-08-23       -1.11   -0.6434   -0.6677\n",
       "2019-08-25       -1.13    0.0000    0.0000\n",
       "2019-08-26        0.45    0.0000    0.0000\n",
       "2019-08-27        1.33    0.3689    0.7712\n",
       "2019-08-28        0.25    0.2873    0.2136\n",
       "2019-08-29        0.53    0.1519    0.0492\n",
       "2019-08-30       -1.18    0.3344    0.2975\n",
       "2019-09-01       -0.35    0.0000    0.0000"
      ]
     },
     "execution_count": 6,
     "metadata": {},
     "output_type": "execute_result"
    }
   ],
   "source": [
    "brent.fillna(0, inplace=True)\n",
    "brent.tail(10)"
   ]
  },
  {
   "cell_type": "code",
   "execution_count": 7,
   "metadata": {},
   "outputs": [
    {
     "data": {
      "image/png": "[encoded data removed]",
      "text/plain": [
       "<Figure size 1080x720 with 1 Axes>"
      ]
     },
     "metadata": {
      "needs_background": "light"
     },
     "output_type": "display_data"
    }
   ],
   "source": [
    "size_data = 500\n",
    "\n",
    "brent['brent_diff'][:size_data].plot(label='brent_diff', figsize=(15, 10))\n",
    "brent['usd_diff'][:size_data].plot(label='usd_diff')\n",
    "brent['eur_diff'][:size_data].plot(label='eur_diff')\n",
    "plt.legend()\n",
    "plt.grid()\n",
    "plt.title('Первые разности brent, USD и EUR')\n",
    "plt.show()"
   ]
  },
  {
   "cell_type": "markdown",
   "metadata": {},
   "source": [
    "__3. Сделайте ее перрасчет (ресемплинг) в представление по неделям.__"
   ]
  },
  {
   "cell_type": "code",
   "execution_count": 8,
   "metadata": {},
   "outputs": [
    {
     "data": {
      "text/html": [
       "<div>\n",
       "<style scoped>\n",
       "    .dataframe tbody tr th:only-of-type {\n",
       "        vertical-align: middle;\n",
       "    }\n",
       "\n",
       "    .dataframe tbody tr th {\n",
       "        vertical-align: top;\n",
       "    }\n",
       "\n",
       "    .dataframe thead th {\n",
       "        text-align: right;\n",
       "    }\n",
       "</style>\n",
       "<table border=\"1\" class=\"dataframe\">\n",
       "  <thead>\n",
       "    <tr style=\"text-align: right;\">\n",
       "      <th></th>\n",
       "      <th>brent_diff</th>\n",
       "      <th>usd_diff</th>\n",
       "      <th>eur_diff</th>\n",
       "    </tr>\n",
       "    <tr>\n",
       "      <th>Дата</th>\n",
       "      <th></th>\n",
       "      <th></th>\n",
       "      <th></th>\n",
       "    </tr>\n",
       "  </thead>\n",
       "  <tbody>\n",
       "    <tr>\n",
       "      <th>2010-09-05</th>\n",
       "      <td>0.052000</td>\n",
       "      <td>-0.034940</td>\n",
       "      <td>0.067560</td>\n",
       "    </tr>\n",
       "    <tr>\n",
       "      <th>2010-09-12</th>\n",
       "      <td>0.288333</td>\n",
       "      <td>0.033583</td>\n",
       "      <td>-0.026467</td>\n",
       "    </tr>\n",
       "    <tr>\n",
       "      <th>2010-09-19</th>\n",
       "      <td>-0.021667</td>\n",
       "      <td>0.021433</td>\n",
       "      <td>0.187483</td>\n",
       "    </tr>\n",
       "    <tr>\n",
       "      <th>2010-09-26</th>\n",
       "      <td>0.118333</td>\n",
       "      <td>-0.013250</td>\n",
       "      <td>0.121083</td>\n",
       "    </tr>\n",
       "    <tr>\n",
       "      <th>2010-10-03</th>\n",
       "      <td>0.791667</td>\n",
       "      <td>-0.072567</td>\n",
       "      <td>0.029883</td>\n",
       "    </tr>\n",
       "  </tbody>\n",
       "</table>\n",
       "</div>"
      ],
      "text/plain": [
       "            brent_diff  usd_diff  eur_diff\n",
       "Дата                                      \n",
       "2010-09-05    0.052000 -0.034940  0.067560\n",
       "2010-09-12    0.288333  0.033583 -0.026467\n",
       "2010-09-19   -0.021667  0.021433  0.187483\n",
       "2010-09-26    0.118333 -0.013250  0.121083\n",
       "2010-10-03    0.791667 -0.072567  0.029883"
      ]
     },
     "execution_count": 8,
     "metadata": {},
     "output_type": "execute_result"
    }
   ],
   "source": [
    "brent_w = brent.resample('W').mean().fillna(0)\n",
    "brent_w.head()"
   ]
  },
  {
   "cell_type": "markdown",
   "metadata": {},
   "source": [
    "__4. Постройте модель предсказания 1-й точки от текущей (h=1).__"
   ]
  },
  {
   "cell_type": "code",
   "execution_count": 9,
   "metadata": {},
   "outputs": [],
   "source": [
    "from sklearn.model_selection import train_test_split\n",
    "\n",
    "h = 1\n",
    "\n",
    "X_train, X_test, y_train, y_test = train_test_split(brent_w.values[:-h],\n",
    "                                                    brent_w['brent_diff'].values[h:],\n",
    "                                                    test_size=0.2,\n",
    "                                                    shuffle=False)"
   ]
  },
  {
   "cell_type": "markdown",
   "metadata": {},
   "source": [
    "Используем GradientBoostingRegressor."
   ]
  },
  {
   "cell_type": "code",
   "execution_count": 10,
   "metadata": {},
   "outputs": [],
   "source": [
    "def mean_absolute_percentage_error(y_true, y_pred): \n",
    "    y_true, y_pred = np.array(y_true), np.array(y_pred)\n",
    "    return np.mean(np.abs((y_true - y_pred) / y_true)) * 100"
   ]
  },
  {
   "cell_type": "code",
   "execution_count": 11,
   "metadata": {},
   "outputs": [
    {
     "name": "stdout",
     "output_type": "stream",
     "text": [
      "-0.05088309916950862\n",
      "148.46440584598935\n"
     ]
    }
   ],
   "source": [
    "from sklearn.ensemble import GradientBoostingRegressor\n",
    "from sklearn.metrics import r2_score\n",
    "\n",
    "model = GradientBoostingRegressor(random_state=21)\n",
    "model.fit(X_train, y_train)\n",
    "pred = model.predict(X_test)\n",
    "\n",
    "print(r2_score(y_test, pred))\n",
    "print(mean_absolute_percentage_error(y_test, pred))"
   ]
  },
  {
   "cell_type": "code",
   "execution_count": 12,
   "metadata": {},
   "outputs": [
    {
     "data": {
      "text/html": [
       "<table class=\"simpletable\">\n",
       "<caption>VAR Order Selection (* highlights the minimums)</caption>\n",
       "<tr>\n",
       "   <td></td>      <th>AIC</th>         <th>BIC</th>         <th>FPE</th>        <th>HQIC</th>    \n",
       "</tr>\n",
       "<tr>\n",
       "  <th>0</th>  <td>    -9.033</td>  <td>    -9.006*</td> <td> 0.0001194</td>  <td>    -9.023*</td>\n",
       "</tr>\n",
       "<tr>\n",
       "  <th>1</th>  <td>    -9.033</td>  <td>    -8.925</td>  <td> 0.0001194</td>  <td>    -8.990</td> \n",
       "</tr>\n",
       "<tr>\n",
       "  <th>2</th>  <td>    -9.061*</td> <td>    -8.872</td>  <td> 0.0001161*</td> <td>    -8.986</td> \n",
       "</tr>\n",
       "<tr>\n",
       "  <th>3</th>  <td>    -9.052</td>  <td>    -8.782</td>  <td> 0.0001171</td>  <td>    -8.946</td> \n",
       "</tr>\n",
       "<tr>\n",
       "  <th>4</th>  <td>    -9.049</td>  <td>    -8.697</td>  <td> 0.0001175</td>  <td>    -8.910</td> \n",
       "</tr>\n",
       "<tr>\n",
       "  <th>5</th>  <td>    -9.027</td>  <td>    -8.594</td>  <td> 0.0001202</td>  <td>    -8.857</td> \n",
       "</tr>\n",
       "<tr>\n",
       "  <th>6</th>  <td>    -9.021</td>  <td>    -8.508</td>  <td> 0.0001208</td>  <td>    -8.819</td> \n",
       "</tr>\n",
       "<tr>\n",
       "  <th>7</th>  <td>    -9.018</td>  <td>    -8.424</td>  <td> 0.0001212</td>  <td>    -8.784</td> \n",
       "</tr>\n",
       "<tr>\n",
       "  <th>8</th>  <td>    -8.995</td>  <td>    -8.319</td>  <td> 0.0001241</td>  <td>    -8.729</td> \n",
       "</tr>\n",
       "<tr>\n",
       "  <th>9</th>  <td>    -8.986</td>  <td>    -8.230</td>  <td> 0.0001251</td>  <td>    -8.688</td> \n",
       "</tr>\n",
       "<tr>\n",
       "  <th>10</th> <td>    -8.979</td>  <td>    -8.141</td>  <td> 0.0001261</td>  <td>    -8.649</td> \n",
       "</tr>\n",
       "<tr>\n",
       "  <th>11</th> <td>    -8.955</td>  <td>    -8.036</td>  <td> 0.0001291</td>  <td>    -8.593</td> \n",
       "</tr>\n",
       "<tr>\n",
       "  <th>12</th> <td>    -8.931</td>  <td>    -7.931</td>  <td> 0.0001323</td>  <td>    -8.537</td> \n",
       "</tr>\n",
       "</table>"
      ],
      "text/plain": [
       "<class 'statsmodels.iolib.table.SimpleTable'>"
      ]
     },
     "execution_count": 12,
     "metadata": {},
     "output_type": "execute_result"
    }
   ],
   "source": [
    "from statsmodels.tsa.api import VAR\n",
    "\n",
    "model = VAR(brent_w)\n",
    "model.select_order(maxlags=12).summary()"
   ]
  },
  {
   "cell_type": "code",
   "execution_count": 13,
   "metadata": {},
   "outputs": [],
   "source": [
    "model_fit = model.fit(2)\n",
    "pred_var = model_fit.forecast(model_fit.endog, steps=len(y_test))[:, 0]"
   ]
  },
  {
   "cell_type": "code",
   "execution_count": 14,
   "metadata": {},
   "outputs": [
    {
     "name": "stdout",
     "output_type": "stream",
     "text": [
      "0.0006707926323334945\n"
     ]
    }
   ],
   "source": [
    "print(r2_score(y_test, pred_var))"
   ]
  },
  {
   "cell_type": "code",
   "execution_count": 15,
   "metadata": {},
   "outputs": [
    {
     "data": {
      "text/plain": [
       "Index(['brent_diff', 'usd_diff', 'eur_diff'], dtype='object')"
      ]
     },
     "execution_count": 15,
     "metadata": {},
     "output_type": "execute_result"
    }
   ],
   "source": [
    "brent_w.columns"
   ]
  },
  {
   "cell_type": "code",
   "execution_count": 16,
   "metadata": {},
   "outputs": [],
   "source": [
    "brent_w['roll_4'] = brent_w['brent_diff'].rolling(window=4).mean()\n",
    "brent_w['roll_5'] = brent_w['brent_diff'].rolling(window=5).mean()"
   ]
  },
  {
   "cell_type": "code",
   "execution_count": 17,
   "metadata": {},
   "outputs": [],
   "source": [
    "def exponential_smoothing(series, alpha):\n",
    "    result = [series[0]] \n",
    "    for n in range(1, len(series)):\n",
    "        result.append(alpha * series[n] + (1 - alpha) * result[n-1])\n",
    "    return result\n",
    "\n",
    "for a in range(1, 9):\n",
    "    brent_w[f'exp_0_0{a}'] = exponential_smoothing(brent_w['brent_diff'], a*0.01)"
   ]
  },
  {
   "cell_type": "code",
   "execution_count": 18,
   "metadata": {},
   "outputs": [],
   "source": [
    "q = 52\n",
    "for i in range(q):\n",
    "    brent_w['q_'+str(i+1)] = 0.\n",
    "    brent_w['q_'+str(i+1)].values[i+1:] = brent_w['brent_diff'].values[:-(i+1)]"
   ]
  },
  {
   "cell_type": "code",
   "execution_count": 19,
   "metadata": {},
   "outputs": [],
   "source": [
    "from sklearn.model_selection import train_test_split\n",
    "\n",
    "h = 1\n",
    "\n",
    "X_train, X_test, y_train, y_test = train_test_split(brent_w.values[q:-h],\n",
    "                                                    brent_w['brent_diff'].values[q+h:],\n",
    "                                                    test_size=0.2,\n",
    "                                                    shuffle=False)"
   ]
  },
  {
   "cell_type": "code",
   "execution_count": 20,
   "metadata": {},
   "outputs": [],
   "source": [
    "from sklearn.preprocessing import StandardScaler\n",
    "\n",
    "scaler_x = StandardScaler()\n",
    "scaler_y = StandardScaler()\n",
    "\n",
    "X_train_sc = scaler_x.fit_transform(X_train)\n",
    "y_train_sc = scaler_y.fit_transform(y_train.reshape(-1, 1))\n",
    "\n",
    "X_test_sc = scaler_x.transform(X_test)\n",
    "y_test_sc = scaler_y.transform(y_test.reshape(-1, 1))"
   ]
  },
  {
   "cell_type": "code",
   "execution_count": 21,
   "metadata": {},
   "outputs": [
    {
     "name": "stdout",
     "output_type": "stream",
     "text": [
      "Index(['q_34', 'q_45', 'q_48', 'q_51'], dtype='object')\n"
     ]
    }
   ],
   "source": [
    "from sklearn.feature_selection import SelectKBest, SelectPercentile\n",
    "from sklearn.feature_selection import SelectFromModel\n",
    "\n",
    "from sklearn.feature_selection import f_regression, mutual_info_regression\n",
    "\n",
    "best_f_score_colmns = []\n",
    "threshold_f = 0.29 # порог важности признака\n",
    "\n",
    "f_test, _ = f_regression(X_train_sc, y_train_sc.ravel())\n",
    "f_test /= np.max(f_test)\n",
    "for i in range(X_train_sc.shape[1]):\n",
    "#     print(\"F-test={:.2f},  I={}\".format(f_test[i],i))\n",
    "    if f_test[i] > threshold_f:\n",
    "        best_f_score_colmns.append(i)\n",
    "        \n",
    "column_names_f = brent_w.iloc[q:-h,:].columns[best_f_score_colmns]\n",
    "print(column_names_f)"
   ]
  },
  {
   "cell_type": "code",
   "execution_count": 22,
   "metadata": {},
   "outputs": [
    {
     "data": {
      "text/plain": [
       "Index(['q_5', 'q_13', 'q_29', 'q_34', 'q_45', 'q_48', 'q_51'], dtype='object')"
      ]
     },
     "execution_count": 22,
     "metadata": {},
     "output_type": "execute_result"
    }
   ],
   "source": [
    "sfk = SelectKBest(f_regression, k=7)\n",
    "X_new1 = sfk.fit_transform(X_train_sc, y_train_sc.ravel())\n",
    "column_names_k = brent_w.columns[sfk.get_support()]\n",
    "column_names_k"
   ]
  },
  {
   "cell_type": "code",
   "execution_count": 23,
   "metadata": {},
   "outputs": [
    {
     "data": {
      "text/plain": [
       "Index(['q_1', 'q_5', 'q_13', 'q_29', 'q_34', 'q_35', 'q_43', 'q_45', 'q_48',\n",
       "       'q_51'],\n",
       "      dtype='object')"
      ]
     },
     "execution_count": 23,
     "metadata": {},
     "output_type": "execute_result"
    }
   ],
   "source": [
    "sfp = SelectPercentile(f_regression, percentile=15)\n",
    "X_new2 = sfp.fit_transform(X_train_sc, y_train_sc.ravel())\n",
    "column_names_p = brent_w.columns[sfp.get_support()]\n",
    "column_names_p"
   ]
  },
  {
   "cell_type": "code",
   "execution_count": 24,
   "metadata": {},
   "outputs": [
    {
     "name": "stdout",
     "output_type": "stream",
     "text": [
      "['q_43', 'q_1', 'q_35', 'q_51', 'q_45', 'q_48', 'q_13', 'q_34', 'q_29', 'q_5']\n"
     ]
    }
   ],
   "source": [
    "list_param = list(set(column_names_f.append(column_names_k).append(column_names_p)))\n",
    "print(list_param)"
   ]
  },
  {
   "cell_type": "code",
   "execution_count": 25,
   "metadata": {},
   "outputs": [],
   "source": [
    "numb_columns = [brent_w.columns.get_loc(param) for param in list_param]\n",
    "X_train_sc_new = X_train_sc[:, numb_columns]\n",
    "X_test_sc_new = X_test_sc[:, numb_columns]"
   ]
  },
  {
   "cell_type": "code",
   "execution_count": 26,
   "metadata": {},
   "outputs": [
    {
     "data": {
      "text/plain": [
       "{'max_depth': 2, 'min_samples_leaf': 3, 'n_estimators': 100}"
      ]
     },
     "execution_count": 26,
     "metadata": {},
     "output_type": "execute_result"
    }
   ],
   "source": [
    "from sklearn.model_selection import GridSearchCV\n",
    "\n",
    "papameters = [{'n_estimators': np.arange(100, 800, 100),\n",
    "               'max_depth': np.arange(2, 9), \n",
    "               'min_samples_leaf': np.arange(1, 6)}]\n",
    "\n",
    "clf = GridSearchCV(estimator=GradientBoostingRegressor(random_state=21, n_iter_no_change=30),\n",
    "                   param_grid=papameters,\n",
    "                   scoring='r2',\n",
    "                   n_jobs=-1)\n",
    "\n",
    "clf.fit(X_train_sc_new, y_train_sc.ravel())\n",
    "\n",
    "clf.best_params_"
   ]
  },
  {
   "cell_type": "code",
   "execution_count": 27,
   "metadata": {},
   "outputs": [
    {
     "name": "stdout",
     "output_type": "stream",
     "text": [
      "-0.04477497660407992\n"
     ]
    }
   ],
   "source": [
    "model = GradientBoostingRegressor(random_state=21, max_depth=2, min_samples_leaf=1, n_estimators=100)\n",
    "model.fit(X_train_sc_new, y_train_sc.ravel())\n",
    "pred = model.predict(X_test_sc_new)\n",
    "\n",
    "print(r2_score(y_test_sc, pred))"
   ]
  },
  {
   "cell_type": "markdown",
   "metadata": {},
   "source": [
    "__5. Сделайте вывод о поведении ошибки предсказания ряда в сравнении с прямым прогнозированием.__"
   ]
  },
  {
   "cell_type": "markdown",
   "metadata": {},
   "source": [
    "Первые разности цены нефти и курсов валют близки по распределению к шуму, без самих значений предсказывать разности с достаточной точностью нельзя."
   ]
  }
 ],
 "metadata": {
  "kernelspec": {
   "display_name": "Python 3",
   "language": "python",
   "name": "python3"
  },
  "language_info": {
   "codemirror_mode": {
    "name": "ipython",
    "version": 3
   },
   "file_extension": ".py",
   "mimetype": "text/x-python",
   "name": "python",
   "nbconvert_exporter": "python",
   "pygments_lexer": "ipython3",
   "version": "3.7.3"
  }
 },
 "nbformat": 4,
 "nbformat_minor": 2
}
