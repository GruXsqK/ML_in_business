{
 "cells": [
  {
   "cell_type": "markdown",
   "metadata": {},
   "source": [
    "1.\n",
    "Напишите текстом как минимум 6 функций распределения и соответствующие им функции правдоподобия.\n",
    "Напишите, какие по вашему мнению целевые переменные из бизнеса (лучше - из страхового) соответствуют этим распределениям (по 2 примера на каждое).\n",
    "Пример: биномиальное распределение для задачи моделирования пролонгации (продлил клиент полис на следующий период или нет)."
   ]
  },
  {
   "cell_type": "markdown",
   "metadata": {},
   "source": [
    "1. Распределение Пуассона - число дорожно – транспортных происшествий с данным видом автотранспорта в течении года.\n",
    "2. Геометрическое распределение - количество испытаний до наступления успеха.\n",
    "3. Экспоненциальное распределение - время обслуживания клиента.\n",
    "4. Нормальное распределение - отклонение размеров детали при производстве.\n",
    "5. Гамма распределение - длительности жизни электрических ламп.\n",
    "6. Распределение Парето - контроль качества производства."
   ]
  },
  {
   "cell_type": "markdown",
   "metadata": {},
   "source": [
    "2.\n",
    "На основе датасета из ноутбука проведите анализ данных и постройте зависимости частоты и среднего убытка от какого-либо параметра (за исключением уже выполненных в ноутбуке)."
   ]
  },
  {
   "cell_type": "code",
   "execution_count": 1,
   "metadata": {},
   "outputs": [],
   "source": [
    "import pandas as pd\n",
    "import numpy as np\n",
    "\n",
    "import matplotlib.pyplot as plt\n",
    "%matplotlib inline"
   ]
  },
  {
   "cell_type": "code",
   "execution_count": 2,
   "metadata": {},
   "outputs": [],
   "source": [
    "df = pd.read_csv('../data/freMPL-R.csv', low_memory=False)"
   ]
  },
  {
   "cell_type": "code",
   "execution_count": 3,
   "metadata": {},
   "outputs": [],
   "source": [
    "df = df.loc[df.Dataset.isin([5, 6, 7, 8, 9])].drop(['Dataset'], axis=1).dropna(axis=1, how='all').drop_duplicates()"
   ]
  },
  {
   "cell_type": "code",
   "execution_count": 4,
   "metadata": {},
   "outputs": [
    {
     "data": {
      "text/html": [
       "<div>\n",
       "<style scoped>\n",
       "    .dataframe tbody tr th:only-of-type {\n",
       "        vertical-align: middle;\n",
       "    }\n",
       "\n",
       "    .dataframe tbody tr th {\n",
       "        vertical-align: top;\n",
       "    }\n",
       "\n",
       "    .dataframe thead th {\n",
       "        text-align: right;\n",
       "    }\n",
       "</style>\n",
       "<table border=\"1\" class=\"dataframe\">\n",
       "  <thead>\n",
       "    <tr style=\"text-align: right;\">\n",
       "      <th></th>\n",
       "      <th>Exposure</th>\n",
       "      <th>LicAge</th>\n",
       "      <th>RecordBeg</th>\n",
       "      <th>RecordEnd</th>\n",
       "      <th>Gender</th>\n",
       "      <th>MariStat</th>\n",
       "      <th>SocioCateg</th>\n",
       "      <th>VehUsage</th>\n",
       "      <th>DrivAge</th>\n",
       "      <th>HasKmLimit</th>\n",
       "      <th>BonusMalus</th>\n",
       "      <th>ClaimAmount</th>\n",
       "      <th>ClaimInd</th>\n",
       "      <th>ClaimNbResp</th>\n",
       "      <th>ClaimNbNonResp</th>\n",
       "      <th>ClaimNbParking</th>\n",
       "      <th>ClaimNbFireTheft</th>\n",
       "      <th>ClaimNbWindscreen</th>\n",
       "      <th>OutUseNb</th>\n",
       "      <th>RiskArea</th>\n",
       "    </tr>\n",
       "  </thead>\n",
       "  <tbody>\n",
       "    <tr>\n",
       "      <th>145813</th>\n",
       "      <td>0.617</td>\n",
       "      <td>602</td>\n",
       "      <td>2004-05-19</td>\n",
       "      <td>NaN</td>\n",
       "      <td>Male</td>\n",
       "      <td>Other</td>\n",
       "      <td>CSP60</td>\n",
       "      <td>Private</td>\n",
       "      <td>68</td>\n",
       "      <td>0</td>\n",
       "      <td>50</td>\n",
       "      <td>5377.204532</td>\n",
       "      <td>1</td>\n",
       "      <td>1.0</td>\n",
       "      <td>0.0</td>\n",
       "      <td>1.0</td>\n",
       "      <td>0.0</td>\n",
       "      <td>1.0</td>\n",
       "      <td>0.0</td>\n",
       "      <td>4.0</td>\n",
       "    </tr>\n",
       "    <tr>\n",
       "      <th>145814</th>\n",
       "      <td>0.761</td>\n",
       "      <td>357</td>\n",
       "      <td>2004-01-01</td>\n",
       "      <td>2004-10-05</td>\n",
       "      <td>Female</td>\n",
       "      <td>Alone</td>\n",
       "      <td>CSP55</td>\n",
       "      <td>Private+trip to office</td>\n",
       "      <td>47</td>\n",
       "      <td>0</td>\n",
       "      <td>50</td>\n",
       "      <td>2017.843505</td>\n",
       "      <td>1</td>\n",
       "      <td>0.0</td>\n",
       "      <td>1.0</td>\n",
       "      <td>0.0</td>\n",
       "      <td>0.0</td>\n",
       "      <td>0.0</td>\n",
       "      <td>0.0</td>\n",
       "      <td>6.0</td>\n",
       "    </tr>\n",
       "    <tr>\n",
       "      <th>145833</th>\n",
       "      <td>0.023</td>\n",
       "      <td>271</td>\n",
       "      <td>2004-10-23</td>\n",
       "      <td>2004-11-01</td>\n",
       "      <td>Male</td>\n",
       "      <td>Other</td>\n",
       "      <td>CSP50</td>\n",
       "      <td>Private+trip to office</td>\n",
       "      <td>49</td>\n",
       "      <td>0</td>\n",
       "      <td>50</td>\n",
       "      <td>356.773414</td>\n",
       "      <td>1</td>\n",
       "      <td>0.0</td>\n",
       "      <td>1.0</td>\n",
       "      <td>0.0</td>\n",
       "      <td>0.0</td>\n",
       "      <td>0.0</td>\n",
       "      <td>2.0</td>\n",
       "      <td>8.0</td>\n",
       "    </tr>\n",
       "    <tr>\n",
       "      <th>145845</th>\n",
       "      <td>0.833</td>\n",
       "      <td>539</td>\n",
       "      <td>2004-01-01</td>\n",
       "      <td>2004-11-01</td>\n",
       "      <td>Male</td>\n",
       "      <td>Other</td>\n",
       "      <td>CSP60</td>\n",
       "      <td>Private</td>\n",
       "      <td>75</td>\n",
       "      <td>0</td>\n",
       "      <td>50</td>\n",
       "      <td>645.125982</td>\n",
       "      <td>1</td>\n",
       "      <td>0.0</td>\n",
       "      <td>0.0</td>\n",
       "      <td>0.0</td>\n",
       "      <td>0.0</td>\n",
       "      <td>0.0</td>\n",
       "      <td>0.0</td>\n",
       "      <td>9.0</td>\n",
       "    </tr>\n",
       "    <tr>\n",
       "      <th>145846</th>\n",
       "      <td>0.957</td>\n",
       "      <td>302</td>\n",
       "      <td>2004-01-01</td>\n",
       "      <td>2004-12-16</td>\n",
       "      <td>Female</td>\n",
       "      <td>Other</td>\n",
       "      <td>CSP55</td>\n",
       "      <td>Private+trip to office</td>\n",
       "      <td>49</td>\n",
       "      <td>0</td>\n",
       "      <td>54</td>\n",
       "      <td>1200.422356</td>\n",
       "      <td>1</td>\n",
       "      <td>0.0</td>\n",
       "      <td>0.0</td>\n",
       "      <td>0.0</td>\n",
       "      <td>0.0</td>\n",
       "      <td>1.0</td>\n",
       "      <td>0.0</td>\n",
       "      <td>8.0</td>\n",
       "    </tr>\n",
       "    <tr>\n",
       "      <th>145850</th>\n",
       "      <td>0.611</td>\n",
       "      <td>525</td>\n",
       "      <td>2004-05-21</td>\n",
       "      <td>NaN</td>\n",
       "      <td>Male</td>\n",
       "      <td>Other</td>\n",
       "      <td>CSP60</td>\n",
       "      <td>Private</td>\n",
       "      <td>68</td>\n",
       "      <td>1</td>\n",
       "      <td>50</td>\n",
       "      <td>4326.525680</td>\n",
       "      <td>1</td>\n",
       "      <td>0.0</td>\n",
       "      <td>0.0</td>\n",
       "      <td>0.0</td>\n",
       "      <td>0.0</td>\n",
       "      <td>0.0</td>\n",
       "      <td>0.0</td>\n",
       "      <td>10.0</td>\n",
       "    </tr>\n",
       "    <tr>\n",
       "      <th>145863</th>\n",
       "      <td>0.482</td>\n",
       "      <td>343</td>\n",
       "      <td>2004-01-01</td>\n",
       "      <td>2004-06-25</td>\n",
       "      <td>Female</td>\n",
       "      <td>Other</td>\n",
       "      <td>CSP1</td>\n",
       "      <td>Professional</td>\n",
       "      <td>48</td>\n",
       "      <td>0</td>\n",
       "      <td>64</td>\n",
       "      <td>2667.093353</td>\n",
       "      <td>1</td>\n",
       "      <td>0.0</td>\n",
       "      <td>0.0</td>\n",
       "      <td>1.0</td>\n",
       "      <td>0.0</td>\n",
       "      <td>1.0</td>\n",
       "      <td>0.0</td>\n",
       "      <td>9.0</td>\n",
       "    </tr>\n",
       "    <tr>\n",
       "      <th>145866</th>\n",
       "      <td>0.998</td>\n",
       "      <td>276</td>\n",
       "      <td>2004-01-01</td>\n",
       "      <td>2004-12-31</td>\n",
       "      <td>Male</td>\n",
       "      <td>Other</td>\n",
       "      <td>CSP46</td>\n",
       "      <td>Professional</td>\n",
       "      <td>41</td>\n",
       "      <td>0</td>\n",
       "      <td>60</td>\n",
       "      <td>386.712689</td>\n",
       "      <td>1</td>\n",
       "      <td>0.0</td>\n",
       "      <td>0.0</td>\n",
       "      <td>0.0</td>\n",
       "      <td>0.0</td>\n",
       "      <td>0.0</td>\n",
       "      <td>0.0</td>\n",
       "      <td>6.0</td>\n",
       "    </tr>\n",
       "    <tr>\n",
       "      <th>145883</th>\n",
       "      <td>0.097</td>\n",
       "      <td>446</td>\n",
       "      <td>2004-01-01</td>\n",
       "      <td>2004-02-06</td>\n",
       "      <td>Male</td>\n",
       "      <td>Alone</td>\n",
       "      <td>CSP48</td>\n",
       "      <td>Professional</td>\n",
       "      <td>57</td>\n",
       "      <td>0</td>\n",
       "      <td>50</td>\n",
       "      <td>2020.635952</td>\n",
       "      <td>1</td>\n",
       "      <td>0.0</td>\n",
       "      <td>1.0</td>\n",
       "      <td>0.0</td>\n",
       "      <td>0.0</td>\n",
       "      <td>0.0</td>\n",
       "      <td>0.0</td>\n",
       "      <td>11.0</td>\n",
       "    </tr>\n",
       "    <tr>\n",
       "      <th>145899</th>\n",
       "      <td>0.816</td>\n",
       "      <td>586</td>\n",
       "      <td>2004-03-07</td>\n",
       "      <td>NaN</td>\n",
       "      <td>Male</td>\n",
       "      <td>Other</td>\n",
       "      <td>CSP60</td>\n",
       "      <td>Private</td>\n",
       "      <td>71</td>\n",
       "      <td>0</td>\n",
       "      <td>50</td>\n",
       "      <td>467.729003</td>\n",
       "      <td>1</td>\n",
       "      <td>0.0</td>\n",
       "      <td>0.0</td>\n",
       "      <td>1.0</td>\n",
       "      <td>0.0</td>\n",
       "      <td>0.0</td>\n",
       "      <td>0.0</td>\n",
       "      <td>7.0</td>\n",
       "    </tr>\n",
       "  </tbody>\n",
       "</table>\n",
       "</div>"
      ],
      "text/plain": [
       "        Exposure  LicAge   RecordBeg   RecordEnd  Gender MariStat SocioCateg  \\\n",
       "145813     0.617     602  2004-05-19         NaN    Male    Other      CSP60   \n",
       "145814     0.761     357  2004-01-01  2004-10-05  Female    Alone      CSP55   \n",
       "145833     0.023     271  2004-10-23  2004-11-01    Male    Other      CSP50   \n",
       "145845     0.833     539  2004-01-01  2004-11-01    Male    Other      CSP60   \n",
       "145846     0.957     302  2004-01-01  2004-12-16  Female    Other      CSP55   \n",
       "145850     0.611     525  2004-05-21         NaN    Male    Other      CSP60   \n",
       "145863     0.482     343  2004-01-01  2004-06-25  Female    Other       CSP1   \n",
       "145866     0.998     276  2004-01-01  2004-12-31    Male    Other      CSP46   \n",
       "145883     0.097     446  2004-01-01  2004-02-06    Male    Alone      CSP48   \n",
       "145899     0.816     586  2004-03-07         NaN    Male    Other      CSP60   \n",
       "\n",
       "                      VehUsage  DrivAge  HasKmLimit  BonusMalus  ClaimAmount  \\\n",
       "145813                 Private       68           0          50  5377.204532   \n",
       "145814  Private+trip to office       47           0          50  2017.843505   \n",
       "145833  Private+trip to office       49           0          50   356.773414   \n",
       "145845                 Private       75           0          50   645.125982   \n",
       "145846  Private+trip to office       49           0          54  1200.422356   \n",
       "145850                 Private       68           1          50  4326.525680   \n",
       "145863            Professional       48           0          64  2667.093353   \n",
       "145866            Professional       41           0          60   386.712689   \n",
       "145883            Professional       57           0          50  2020.635952   \n",
       "145899                 Private       71           0          50   467.729003   \n",
       "\n",
       "        ClaimInd  ClaimNbResp  ClaimNbNonResp  ClaimNbParking  \\\n",
       "145813         1          1.0             0.0             1.0   \n",
       "145814         1          0.0             1.0             0.0   \n",
       "145833         1          0.0             1.0             0.0   \n",
       "145845         1          0.0             0.0             0.0   \n",
       "145846         1          0.0             0.0             0.0   \n",
       "145850         1          0.0             0.0             0.0   \n",
       "145863         1          0.0             0.0             1.0   \n",
       "145866         1          0.0             0.0             0.0   \n",
       "145883         1          0.0             1.0             0.0   \n",
       "145899         1          0.0             0.0             1.0   \n",
       "\n",
       "        ClaimNbFireTheft  ClaimNbWindscreen  OutUseNb  RiskArea  \n",
       "145813               0.0                1.0       0.0       4.0  \n",
       "145814               0.0                0.0       0.0       6.0  \n",
       "145833               0.0                0.0       2.0       8.0  \n",
       "145845               0.0                0.0       0.0       9.0  \n",
       "145846               0.0                1.0       0.0       8.0  \n",
       "145850               0.0                0.0       0.0      10.0  \n",
       "145863               0.0                1.0       0.0       9.0  \n",
       "145866               0.0                0.0       0.0       6.0  \n",
       "145883               0.0                0.0       0.0      11.0  \n",
       "145899               0.0                0.0       0.0       7.0  "
      ]
     },
     "execution_count": 4,
     "metadata": {},
     "output_type": "execute_result"
    }
   ],
   "source": [
    "df[df['ClaimAmount']>0].head(10)"
   ]
  },
  {
   "cell_type": "code",
   "execution_count": 5,
   "metadata": {},
   "outputs": [
    {
     "name": "stdout",
     "output_type": "stream",
     "text": [
      "<class 'pandas.core.frame.DataFrame'>\n",
      "Int64Index: 115155 entries, 145780 to 310979\n",
      "Data columns (total 20 columns):\n",
      " #   Column             Non-Null Count   Dtype  \n",
      "---  ------             --------------   -----  \n",
      " 0   Exposure           115155 non-null  float64\n",
      " 1   LicAge             115155 non-null  int64  \n",
      " 2   RecordBeg          115155 non-null  object \n",
      " 3   RecordEnd          59455 non-null   object \n",
      " 4   Gender             115155 non-null  object \n",
      " 5   MariStat           115155 non-null  object \n",
      " 6   SocioCateg         115155 non-null  object \n",
      " 7   VehUsage           115155 non-null  object \n",
      " 8   DrivAge            115155 non-null  int64  \n",
      " 9   HasKmLimit         115155 non-null  int64  \n",
      " 10  BonusMalus         115155 non-null  int64  \n",
      " 11  ClaimAmount        115155 non-null  float64\n",
      " 12  ClaimInd           115155 non-null  int64  \n",
      " 13  ClaimNbResp        115155 non-null  float64\n",
      " 14  ClaimNbNonResp     115155 non-null  float64\n",
      " 15  ClaimNbParking     115155 non-null  float64\n",
      " 16  ClaimNbFireTheft   115155 non-null  float64\n",
      " 17  ClaimNbWindscreen  115155 non-null  float64\n",
      " 18  OutUseNb           115155 non-null  float64\n",
      " 19  RiskArea           115155 non-null  float64\n",
      "dtypes: float64(9), int64(5), object(6)\n",
      "memory usage: 18.4+ MB\n"
     ]
    }
   ],
   "source": [
    "df.info()"
   ]
  },
  {
   "cell_type": "code",
   "execution_count": 6,
   "metadata": {},
   "outputs": [],
   "source": [
    "df['PolicyCount'] = 1\n",
    "df['ClaimCount'] = df['ClaimAmount'] > 0\n",
    "df['NoClaimCount'] = df.PolicyCount - df.ClaimCount"
   ]
  },
  {
   "cell_type": "code",
   "execution_count": 7,
   "metadata": {},
   "outputs": [
    {
     "data": {
      "image/png": "[encoded data removed]",
      "text/plain": [
       "<Figure size 1152x648 with 1 Axes>"
      ]
     },
     "metadata": {
      "needs_background": "light"
     },
     "output_type": "display_data"
    }
   ],
   "source": [
    "df.groupby('SocioCateg')['BonusMalus'].mean().plot(kind='bar', figsize=(16, 9))\n",
    "plt.title('Средний BonusMalus для каждой социальной группы.')\n",
    "plt.xticks(rotation=45)\n",
    "plt.show()"
   ]
  },
  {
   "cell_type": "code",
   "execution_count": 8,
   "metadata": {
    "scrolled": true
   },
   "outputs": [
    {
     "data": {
      "image/png": "[encoded data removed]",
      "text/plain": [
       "<Figure size 1080x360 with 1 Axes>"
      ]
     },
     "metadata": {
      "needs_background": "light"
     },
     "output_type": "display_data"
    }
   ],
   "source": [
    "claim_reason = ['ClaimInd','ClaimNbResp', 'ClaimNbNonResp', 'ClaimNbParking', \n",
    "                'ClaimNbFireTheft', 'ClaimNbWindscreen', 'OutUseNb']\n",
    "sum_claim = {reason:df[reason].sum()/df[claim_reason].sum().sum() for reason in claim_reason}\n",
    "\n",
    "plt.figure(figsize=(15, 5))\n",
    "plt.bar(sum_claim.keys(), sum_claim.values())\n",
    "plt.title('Доля убыточных полисов для каждой причины убытка')\n",
    "plt.show()"
   ]
  },
  {
   "cell_type": "code",
   "execution_count": 9,
   "metadata": {},
   "outputs": [],
   "source": [
    "df_group_Malus = df[['Exposure', 'PolicyCount','ClaimAmount', 'ClaimCount', 'NoClaimCount']].groupby(df['BonusMalus']).sum()\n",
    "df_group_Malus = df_group_Malus.reset_index()\n",
    "df_group_Malus['Freq'] = df_group_Malus.ClaimCount / df_group_Malus.Exposure\n",
    "df_group_Malus['AvgClaim'] = df_group_Malus.ClaimAmount / df_group_Malus.ClaimCount"
   ]
  },
  {
   "cell_type": "code",
   "execution_count": 10,
   "metadata": {},
   "outputs": [
    {
     "data": {
      "image/png": "[encoded data removed]",
      "text/plain": [
       "<Figure size 1080x648 with 1 Axes>"
      ]
     },
     "metadata": {
      "needs_background": "light"
     },
     "output_type": "display_data"
    }
   ],
   "source": [
    "plt.figure(figsize=(15, 9))\n",
    "plt.bar(df_group_Malus['BonusMalus'], df_group_Malus['Freq'])\n",
    "plt.title('Зависимость частоты убытков от BonusMalus')\n",
    "plt.show()"
   ]
  },
  {
   "cell_type": "code",
   "execution_count": 11,
   "metadata": {},
   "outputs": [
    {
     "data": {
      "image/png": "[encoded data removed]",
      "text/plain": [
       "<Figure size 1080x648 with 1 Axes>"
      ]
     },
     "metadata": {
      "needs_background": "light"
     },
     "output_type": "display_data"
    }
   ],
   "source": [
    "plt.figure(figsize=(15, 9))\n",
    "plt.bar(df_group_Malus['BonusMalus'], df_group_Malus['AvgClaim'])\n",
    "plt.title('Зависимость среднего убытка от BonusMalus')\n",
    "plt.show()"
   ]
  }
 ],
 "metadata": {
  "kernelspec": {
   "display_name": "Python 3",
   "language": "python",
   "name": "python3"
  },
  "language_info": {
   "codemirror_mode": {
    "name": "ipython",
    "version": 3
   },
   "file_extension": ".py",
   "mimetype": "text/x-python",
   "name": "python",
   "nbconvert_exporter": "python",
   "pygments_lexer": "ipython3",
   "version": "3.7.3"
  }
 },
 "nbformat": 4,
 "nbformat_minor": 2
}
