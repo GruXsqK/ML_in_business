{
 "cells": [
  {
   "cell_type": "markdown",
   "metadata": {
    "colab_type": "text",
    "id": "Xljx8j0-_jXR"
   },
   "source": [
    "### * Домашнее задание: Многоклассовая классификация"
   ]
  },
  {
   "cell_type": "markdown",
   "metadata": {
    "colab_type": "text",
    "id": "bVx_WNaKwibO"
   },
   "source": [
    "В текущем домашнем задание предлагается взглянуть на задачу моделирования количества страховых случаев как на задачу многоклассовой классификации."
   ]
  },
  {
   "cell_type": "code",
   "execution_count": 21,
   "metadata": {
    "colab": {},
    "colab_type": "code",
    "id": "n98J3UNxSLUd"
   },
   "outputs": [],
   "source": [
    "import pandas as pd\n",
    "import numpy as np\n",
    "import xgboost as xgb\n",
    "import matplotlib.pyplot as plt\n",
    "from sklearn.model_selection import train_test_split, cross_val_score\n",
    "from sklearn.metrics import f1_score, accuracy_score, confusion_matrix\n",
    "from hyperopt import hp, tpe, space_eval\n",
    "from hyperopt.fmin import fmin\n",
    "\n",
    "def SeriesFactorizer(series):\n",
    "    series, unique = pd.factorize(series)\n",
    "    reference = {x: i for x, i in enumerate(unique)}\n",
    "#     print(reference)\n",
    "    return series, reference"
   ]
  },
  {
   "cell_type": "code",
   "execution_count": 2,
   "metadata": {
    "colab": {},
    "colab_type": "code",
    "id": "cdgTw4I-7GdC"
   },
   "outputs": [],
   "source": [
    "df = pd.read_csv('../data/freMPL-R.csv', low_memory=False)"
   ]
  },
  {
   "cell_type": "code",
   "execution_count": 3,
   "metadata": {
    "colab": {
     "base_uri": "https://localhost:8080/",
     "height": 476
    },
    "colab_type": "code",
    "executionInfo": {
     "elapsed": 918,
     "status": "ok",
     "timestamp": 1587404911567,
     "user": {
      "displayName": "Aleksandr Shchegolev",
      "photoUrl": "",
      "userId": "00652555022685556919"
     },
     "user_tz": -180
    },
    "id": "ydyEnF3VCbXO",
    "outputId": "88451261-1f61-4a76-8a06-20fd6ec951ba"
   },
   "outputs": [
    {
     "name": "stdout",
     "output_type": "stream",
     "text": [
      "<class 'pandas.core.frame.DataFrame'>\n",
      "RangeIndex: 115155 entries, 0 to 115154\n",
      "Data columns (total 20 columns):\n",
      " #   Column             Non-Null Count   Dtype  \n",
      "---  ------             --------------   -----  \n",
      " 0   Exposure           115155 non-null  float64\n",
      " 1   LicAge             115155 non-null  int64  \n",
      " 2   RecordBeg          115155 non-null  object \n",
      " 3   RecordEnd          59455 non-null   object \n",
      " 4   Gender             115155 non-null  object \n",
      " 5   MariStat           115155 non-null  object \n",
      " 6   SocioCateg         115155 non-null  object \n",
      " 7   VehUsage           115155 non-null  object \n",
      " 8   DrivAge            115155 non-null  int64  \n",
      " 9   HasKmLimit         115155 non-null  int64  \n",
      " 10  BonusMalus         115155 non-null  int64  \n",
      " 11  ClaimAmount        115155 non-null  float64\n",
      " 12  ClaimInd           115155 non-null  int64  \n",
      " 13  ClaimNbResp        115155 non-null  float64\n",
      " 14  ClaimNbNonResp     115155 non-null  float64\n",
      " 15  ClaimNbParking     115155 non-null  float64\n",
      " 16  ClaimNbFireTheft   115155 non-null  float64\n",
      " 17  ClaimNbWindscreen  115155 non-null  float64\n",
      " 18  OutUseNb           115155 non-null  float64\n",
      " 19  RiskArea           115155 non-null  float64\n",
      "dtypes: float64(9), int64(5), object(6)\n",
      "memory usage: 17.6+ MB\n"
     ]
    }
   ],
   "source": [
    "df = df.loc[df.Dataset.isin([5, 6, 7, 8, 9])]\n",
    "df.drop('Dataset', axis=1, inplace=True)\n",
    "df.dropna(axis=1, how='all', inplace=True)\n",
    "df.drop_duplicates(inplace=True)\n",
    "df.reset_index(drop=True, inplace=True)\n",
    "df.info()"
   ]
  },
  {
   "cell_type": "markdown",
   "metadata": {
    "colab_type": "text",
    "id": "r9dMlMh5QcXt"
   },
   "source": [
    "Предобработайте данные"
   ]
  },
  {
   "cell_type": "code",
   "execution_count": 4,
   "metadata": {
    "colab": {
     "base_uri": "https://localhost:8080/",
     "height": 34
    },
    "colab_type": "code",
    "executionInfo": {
     "elapsed": 1968,
     "status": "ok",
     "timestamp": 1587408067317,
     "user": {
      "displayName": "Aleksandr Shchegolev",
      "photoUrl": "",
      "userId": "00652555022685556919"
     },
     "user_tz": -180
    },
    "id": "WdtY7qDp8veM",
    "outputId": "266c8c57-fa73-4e63-84d5-a915ed27bb8c"
   },
   "outputs": [],
   "source": [
    "df.loc[df.ClaimAmount < 0, 'ClaimAmount'] = 0\n",
    "\n",
    "df.Gender, GenderRef = SeriesFactorizer(df.Gender)\n",
    "df.MariStat, MariStatRef = SeriesFactorizer(df.MariStat)\n",
    "\n",
    "df['SocioCateg'] = df.SocioCateg.str.slice(0,4)\n",
    "\n",
    "df = pd.get_dummies(df, columns=['VehUsage','SocioCateg'])\n",
    "\n",
    "df = df.select_dtypes(exclude=['object'])\n",
    "\n",
    "df['DrivAgeSq'] = df.DrivAge.apply(lambda x: x**2)\n",
    "\n",
    "df['ClaimsCount'] = df.ClaimInd + df.ClaimNbResp + df.ClaimNbNonResp + \\\n",
    "                    df.ClaimNbParking + df.ClaimNbFireTheft + df.ClaimNbWindscreen\n",
    "df.loc[df.ClaimAmount == 0, 'ClaimsCount'] = 0\n",
    "df.drop([\"ClaimNbResp\", \"ClaimNbNonResp\", \"ClaimNbParking\", \"ClaimNbFireTheft\", \"ClaimNbWindscreen\"], axis=1, inplace=True)"
   ]
  },
  {
   "cell_type": "code",
   "execution_count": 5,
   "metadata": {
    "colab": {
     "base_uri": "https://localhost:8080/",
     "height": 544
    },
    "colab_type": "code",
    "executionInfo": {
     "elapsed": 648,
     "status": "ok",
     "timestamp": 1587404940696,
     "user": {
      "displayName": "Aleksandr Shchegolev",
      "photoUrl": "",
      "userId": "00652555022685556919"
     },
     "user_tz": -180
    },
    "id": "S4g1U0-rdIZq",
    "outputId": "4f6ea36d-5d03-45b0-a273-2bdfec0eb879"
   },
   "outputs": [
    {
     "name": "stdout",
     "output_type": "stream",
     "text": [
      "<class 'pandas.core.frame.DataFrame'>\n",
      "RangeIndex: 115155 entries, 0 to 115154\n",
      "Data columns (total 24 columns):\n",
      " #   Column                           Non-Null Count   Dtype  \n",
      "---  ------                           --------------   -----  \n",
      " 0   Exposure                         115155 non-null  float64\n",
      " 1   LicAge                           115155 non-null  int64  \n",
      " 2   Gender                           115155 non-null  int64  \n",
      " 3   MariStat                         115155 non-null  int64  \n",
      " 4   DrivAge                          115155 non-null  int64  \n",
      " 5   HasKmLimit                       115155 non-null  int64  \n",
      " 6   BonusMalus                       115155 non-null  int64  \n",
      " 7   ClaimAmount                      115155 non-null  float64\n",
      " 8   ClaimInd                         115155 non-null  int64  \n",
      " 9   OutUseNb                         115155 non-null  float64\n",
      " 10  RiskArea                         115155 non-null  float64\n",
      " 11  VehUsage_Private                 115155 non-null  uint8  \n",
      " 12  VehUsage_Private+trip to office  115155 non-null  uint8  \n",
      " 13  VehUsage_Professional            115155 non-null  uint8  \n",
      " 14  VehUsage_Professional run        115155 non-null  uint8  \n",
      " 15  SocioCateg_CSP1                  115155 non-null  uint8  \n",
      " 16  SocioCateg_CSP2                  115155 non-null  uint8  \n",
      " 17  SocioCateg_CSP3                  115155 non-null  uint8  \n",
      " 18  SocioCateg_CSP4                  115155 non-null  uint8  \n",
      " 19  SocioCateg_CSP5                  115155 non-null  uint8  \n",
      " 20  SocioCateg_CSP6                  115155 non-null  uint8  \n",
      " 21  SocioCateg_CSP7                  115155 non-null  uint8  \n",
      " 22  DrivAgeSq                        115155 non-null  int64  \n",
      " 23  ClaimsCount                      115155 non-null  float64\n",
      "dtypes: float64(5), int64(8), uint8(11)\n",
      "memory usage: 12.6 MB\n"
     ]
    }
   ],
   "source": [
    "df.info()"
   ]
  },
  {
   "cell_type": "markdown",
   "metadata": {
    "colab_type": "text",
    "id": "2m1bibe9nMKp"
   },
   "source": [
    "XGBoost для многоклассовой классификации принимает на вход значения меток классов в виде `[0, num_classes]`. Заменим значение 11 на 10."
   ]
  },
  {
   "cell_type": "code",
   "execution_count": 6,
   "metadata": {},
   "outputs": [
    {
     "name": "stdout",
     "output_type": "stream",
     "text": [
      "До: [ 0.  4.  2.  1.  3.  5.  6.  7.  8.  9. 11.]\n",
      "После: [ 0.  4.  2.  1.  3.  5.  6.  7.  8.  9. 10.]\n"
     ]
    }
   ],
   "source": [
    "print(f\"До: {df['ClaimsCount'].unique()}\")\n",
    "df.loc[df.ClaimsCount == 11, 'ClaimsCount'] = 10\n",
    "print(f\"После: {df['ClaimsCount'].unique()}\")"
   ]
  },
  {
   "cell_type": "markdown",
   "metadata": {
    "colab_type": "text",
    "id": "Nqre5rvZxL-N"
   },
   "source": [
    "Посмотрим, сколько полисов соответствуют каждому из значений `ClaimsCount`, используя метод `groupby`. Для полученных значений также посчитаем нормированную частоту."
   ]
  },
  {
   "cell_type": "code",
   "execution_count": 7,
   "metadata": {
    "colab": {},
    "colab_type": "code",
    "id": "nHgg3kZJu8tX"
   },
   "outputs": [],
   "source": [
    "FreqCount = pd.DataFrame(df.groupby('ClaimsCount')['ClaimAmount'].count().reset_index()\n",
    "                         .rename(columns={'ClaimAmount':'Count'}), \n",
    "             columns=['Count'])\n",
    "FreqCount['Freq'] = FreqCount.index/FreqCount.Count"
   ]
  },
  {
   "cell_type": "code",
   "execution_count": 8,
   "metadata": {
    "colab": {},
    "colab_type": "code",
    "id": "UifKccwQYWiT"
   },
   "outputs": [
    {
     "data": {
      "image/png": "[encoded data removed]",
      "text/plain": [
       "<Figure size 432x288 with 1 Axes>"
      ]
     },
     "metadata": {
      "needs_background": "light"
     },
     "output_type": "display_data"
    }
   ],
   "source": [
    "FreqCount.Freq.plot(kind='bar')\n",
    "plt.ylabel('Frequency')\n",
    "plt.show()"
   ]
  },
  {
   "cell_type": "code",
   "execution_count": 9,
   "metadata": {
    "colab": {},
    "colab_type": "code",
    "id": "4Gy10AzjXsT9"
   },
   "outputs": [
    {
     "data": {
      "text/html": [
       "<div>\n",
       "<style scoped>\n",
       "    .dataframe tbody tr th:only-of-type {\n",
       "        vertical-align: middle;\n",
       "    }\n",
       "\n",
       "    .dataframe tbody tr th {\n",
       "        vertical-align: top;\n",
       "    }\n",
       "\n",
       "    .dataframe thead th {\n",
       "        text-align: right;\n",
       "    }\n",
       "</style>\n",
       "<table border=\"1\" class=\"dataframe\">\n",
       "  <thead>\n",
       "    <tr style=\"text-align: right;\">\n",
       "      <th></th>\n",
       "      <th>Count</th>\n",
       "      <th>Freq</th>\n",
       "    </tr>\n",
       "  </thead>\n",
       "  <tbody>\n",
       "    <tr>\n",
       "      <th>0</th>\n",
       "      <td>104286</td>\n",
       "      <td>0.000000</td>\n",
       "    </tr>\n",
       "    <tr>\n",
       "      <th>1</th>\n",
       "      <td>3339</td>\n",
       "      <td>0.000299</td>\n",
       "    </tr>\n",
       "    <tr>\n",
       "      <th>2</th>\n",
       "      <td>3529</td>\n",
       "      <td>0.000567</td>\n",
       "    </tr>\n",
       "    <tr>\n",
       "      <th>3</th>\n",
       "      <td>2310</td>\n",
       "      <td>0.001299</td>\n",
       "    </tr>\n",
       "    <tr>\n",
       "      <th>4</th>\n",
       "      <td>1101</td>\n",
       "      <td>0.003633</td>\n",
       "    </tr>\n",
       "    <tr>\n",
       "      <th>5</th>\n",
       "      <td>428</td>\n",
       "      <td>0.011682</td>\n",
       "    </tr>\n",
       "    <tr>\n",
       "      <th>6</th>\n",
       "      <td>127</td>\n",
       "      <td>0.047244</td>\n",
       "    </tr>\n",
       "    <tr>\n",
       "      <th>7</th>\n",
       "      <td>26</td>\n",
       "      <td>0.269231</td>\n",
       "    </tr>\n",
       "    <tr>\n",
       "      <th>8</th>\n",
       "      <td>6</td>\n",
       "      <td>1.333333</td>\n",
       "    </tr>\n",
       "    <tr>\n",
       "      <th>9</th>\n",
       "      <td>2</td>\n",
       "      <td>4.500000</td>\n",
       "    </tr>\n",
       "    <tr>\n",
       "      <th>10</th>\n",
       "      <td>1</td>\n",
       "      <td>10.000000</td>\n",
       "    </tr>\n",
       "  </tbody>\n",
       "</table>\n",
       "</div>"
      ],
      "text/plain": [
       "     Count       Freq\n",
       "0   104286   0.000000\n",
       "1     3339   0.000299\n",
       "2     3529   0.000567\n",
       "3     2310   0.001299\n",
       "4     1101   0.003633\n",
       "5      428   0.011682\n",
       "6      127   0.047244\n",
       "7       26   0.269231\n",
       "8        6   1.333333\n",
       "9        2   4.500000\n",
       "10       1  10.000000"
      ]
     },
     "execution_count": 9,
     "metadata": {},
     "output_type": "execute_result"
    }
   ],
   "source": [
    "FreqCount"
   ]
  },
  {
   "cell_type": "markdown",
   "metadata": {
    "colab_type": "text",
    "id": "BzM1998TZDPm"
   },
   "source": [
    "Заметим, что в данном случае присутствует проблема несбалансированности классов. Поэтому, для того, чтобы по возможности избежать ее, воспользуемся взвешиванием наблюдений для обучения модели. Для этого в исходном наборе данных создадим столбец `weight`. Присвоим ему некоторые значения, например, можно задать `0.05` для значений `ClaimsCount` 0, а для остальных - 1 (Для этого можем использовать функцию `np.where`). Также можно попробовать какой-либо другой способ задания весов, приведенный пример не гарантирует хороших результатов."
   ]
  },
  {
   "cell_type": "code",
   "execution_count": 10,
   "metadata": {},
   "outputs": [],
   "source": [
    "df['weight'] = 1\n",
    "df.loc[df['ClaimsCount']==0, ['weight']] = 0.05"
   ]
  },
  {
   "cell_type": "markdown",
   "metadata": {
    "colab_type": "text",
    "id": "sAlGTL0hBpNv"
   },
   "source": [
    "Разобьем имеющийся набор данных на обучающую, валидационную и тестовую выборки в отношениях 70%/15%/15% соответственно. Зададим зерно для случайного разбиения равным 10."
   ]
  },
  {
   "cell_type": "code",
   "execution_count": 11,
   "metadata": {
    "colab": {},
    "colab_type": "code",
    "id": "0u45ocam8HCn"
   },
   "outputs": [],
   "source": [
    "x_train, x_test, y_train, y_test = train_test_split(df.drop(['ClaimsCount'], axis=1), \n",
    "                                                    df.ClaimsCount, \n",
    "                                                    test_size=0.3, \n",
    "                                                    random_state=10)\n",
    "\n",
    "x_valid, x_test, y_valid, y_test = train_test_split(x_test, y_test, test_size=0.5, random_state=10)"
   ]
  },
  {
   "cell_type": "markdown",
   "metadata": {
    "colab_type": "text",
    "id": "PCySK2zQKsUI"
   },
   "source": [
    "Далее, создадим объекты `DMatrix` для обучающей, валидационной и тестовой выборок. Для обучающей выборки также укажем параметр `weight` равным полученному ранее столбцу весов. Данный столбец также нужно исключить из объекта передаваемого в параметр `data`."
   ]
  },
  {
   "cell_type": "code",
   "execution_count": 12,
   "metadata": {
    "colab": {},
    "colab_type": "code",
    "id": "_67FrNffDNu-"
   },
   "outputs": [],
   "source": [
    "xgb_train = xgb.DMatrix(data=x_train.drop(['weight'], axis=1), label=y_train, weight=x_train['weight'])\n",
    "xgb_valid = xgb.DMatrix(data=x_valid.drop(['weight'], axis=1), label=y_valid)\n",
    "xgb_test = xgb.DMatrix(data=x_test.drop(['weight'], axis=1), label=y_test)"
   ]
  },
  {
   "cell_type": "markdown",
   "metadata": {
    "colab_type": "text",
    "id": "N__wZRJLaMfs"
   },
   "source": [
    "Для оптимизации гиперпараметров можно воспользоваться различными методами."
   ]
  },
  {
   "cell_type": "code",
   "execution_count": 13,
   "metadata": {},
   "outputs": [],
   "source": [
    "# Определим границы, в которых будем искать гиперпараметры\n",
    "\n",
    "space_xgb = {'n_estimators': hp.choice('n_estimators', range(100, 1000, 100)),\n",
    "             'eta': hp.quniform('eta', 0.025, 0.5, 0.025),\n",
    "             'max_depth':  hp.choice('max_depth', np.arange(1, 14, dtype=int)),\n",
    "             'min_child_weight': hp.quniform('min_child_weight', 1, 6, 1),\n",
    "             'subsample': hp.quniform('subsample', 0.5, 1, 0.05),\n",
    "             'gamma': hp.quniform('gamma', 0.5, 1, 0.05),\n",
    "             'colsample_bytree': hp.quniform('colsample_bytree', 0.5, 1, 0.05),\n",
    "             'num_class': df['ClaimsCount'].unique().size,\n",
    "             'eval_metric': 'auc',\n",
    "             'objective': 'multi:softprob',\n",
    "             'nthread': 4,\n",
    "             'booster': 'gbtree',\n",
    "             'tree_method': 'exact',\n",
    "             'verbosity': 0\n",
    "            }"
   ]
  },
  {
   "cell_type": "code",
   "execution_count": 14,
   "metadata": {},
   "outputs": [],
   "source": [
    "def hyperopt_xgb_score(params):\n",
    "    clf = xgb.XGBClassifier(**params)\n",
    "    current_score = cross_val_score(clf, x_test, y_test, cv=3).mean()\n",
    "    return -current_score"
   ]
  },
  {
   "cell_type": "code",
   "execution_count": 15,
   "metadata": {},
   "outputs": [],
   "source": [
    "import warnings\n",
    "warnings.simplefilter(\"ignore\", UserWarning)"
   ]
  },
  {
   "cell_type": "code",
   "execution_count": 16,
   "metadata": {},
   "outputs": [
    {
     "name": "stdout",
     "output_type": "stream",
     "text": [
      "100%|███████████████████████████████████████████████| 40/40 [44:56<00:00, 67.42s/trial, best loss: -0.9394465670950561]\n"
     ]
    }
   ],
   "source": [
    "# Оптимизация\n",
    "best = fmin(fn=hyperopt_xgb_score, space=space_xgb, algo=tpe.suggest, max_evals=40)"
   ]
  },
  {
   "cell_type": "code",
   "execution_count": 17,
   "metadata": {},
   "outputs": [
    {
     "data": {
      "text/plain": [
       "{'booster': 'gbtree',\n",
       " 'colsample_bytree': 0.8,\n",
       " 'eta': 0.05,\n",
       " 'eval_metric': 'auc',\n",
       " 'gamma': 0.9,\n",
       " 'max_depth': 1,\n",
       " 'min_child_weight': 2.0,\n",
       " 'n_estimators': 200,\n",
       " 'nthread': 4,\n",
       " 'num_class': 11,\n",
       " 'objective': 'multi:softprob',\n",
       " 'subsample': 0.8,\n",
       " 'tree_method': 'exact',\n",
       " 'verbosity': 0}"
      ]
     },
     "execution_count": 17,
     "metadata": {},
     "output_type": "execute_result"
    }
   ],
   "source": [
    "# Оптимальные гиперпараметры\n",
    "best_params = space_eval(space_xgb, best)\n",
    "best_params"
   ]
  },
  {
   "cell_type": "markdown",
   "metadata": {
    "colab_type": "text",
    "id": "_3bTqctcR84Z"
   },
   "source": [
    "Далее обучим нашу модель с оптимальными параметрами"
   ]
  },
  {
   "cell_type": "code",
   "execution_count": 18,
   "metadata": {},
   "outputs": [],
   "source": [
    "xgb_multiclass = xgb.train(params=best_params,\n",
    "                           dtrain=xgb_train,\n",
    "                           num_boost_round=30,\n",
    "                           feval=hyperopt_xgb_score,\n",
    "                           maximize=True,\n",
    "                           early_stopping_rounds=None,\n",
    "                           evals_result=None,\n",
    "                           verbose_eval=False)"
   ]
  },
  {
   "cell_type": "markdown",
   "metadata": {
    "colab_type": "text",
    "id": "x9151AtiSRtD"
   },
   "source": [
    "Посчитаем метрики accuracy и f1 на наших наборах данных, также можем визуализировать confusion matrix, например, с помощью `plt.imshow()`. Можно использовать предложенный ниже код."
   ]
  },
  {
   "cell_type": "code",
   "execution_count": 19,
   "metadata": {
    "colab": {},
    "colab_type": "code",
    "id": "A6ByYuqwD27P"
   },
   "outputs": [
    {
     "name": "stdout",
     "output_type": "stream",
     "text": [
      "F1 Score on train: 0.935850039698293\n",
      "F1 Score on valid: 0.9375325652752852\n",
      "F1 Score on test: 0.936899386361005\n"
     ]
    }
   ],
   "source": [
    "dfsets = [{'set': 'train', 'dmat': xgb_train, 'target': y_train},\n",
    "          {'set': 'valid', 'dmat': xgb_valid, 'target': y_valid},\n",
    "          {'set': 'test', 'dmat': xgb_test, 'target': y_test}]\n",
    "for dfset in dfsets:\n",
    "    # Посчитаем предсказанные значения\n",
    "    class_preds = [range(0, space_xgb['num_class'])[idx] for idx in np.argmax(xgb_multiclass.predict(dfset['dmat']), axis=1)]\n",
    "    print('F1 Score on ' + str(dfset['set'])+':', f1_score(dfset['target'], class_preds, average='micro')) # Посчитаем F1 Score"
   ]
  },
  {
   "cell_type": "code",
   "execution_count": 20,
   "metadata": {
    "colab": {},
    "colab_type": "code",
    "id": "36_p091I8Www"
   },
   "outputs": [
    {
     "data": {
      "image/png": "[encoded data removed]",
      "text/plain": [
       "<Figure size 1080x216 with 6 Axes>"
      ]
     },
     "metadata": {
      "needs_background": "light"
     },
     "output_type": "display_data"
    }
   ],
   "source": [
    "plt.subplots(1,3, figsize=(15,3))\n",
    "for i in range(len(dfsets)):\n",
    "    confmatrix = confusion_matrix(dfsets[i]['target'].values,\n",
    "            [range(0, space_xgb['num_class'])[idx] for idx in np.argmax(xgb_multiclass.predict(dfsets[i]['dmat']), axis=1)])\n",
    "    plt.subplot(1,3,i+1)\n",
    "    plt.imshow(confmatrix, cmap='Greys')\n",
    "    plt.colorbar()\n",
    "    plt.ylabel('True')\n",
    "    plt.xlabel('Predicted')\n",
    "plt.show()"
   ]
  },
  {
   "cell_type": "markdown",
   "metadata": {
    "colab_type": "text",
    "id": "X7rFhBo3Tepd"
   },
   "source": [
    "Как вы оцениваете качество построенной модели? Какие проблемы могут здесь присутствовать? Как можно улучшить результат?"
   ]
  },
  {
   "cell_type": "markdown",
   "metadata": {},
   "source": [
    "О качестве модели сказать сложно, так как присутствует сильный дизбаланс классов. Более эффективно было бы делать бинарную классификацию (без убытка и с убытком), а убыточные полисы уже предсказывать на количество случаев по полису другой моделью. Несбалансированность классов можно уменьшить с помощью over- и under-sampling'а, можно поэкспериментировать с ADASYN или SMOTE.\n",
    "Также необходимо добавить экспозицию в веса, так как она напрямую влияет на количество событий по полису."
   ]
  }
 ],
 "metadata": {
  "colab": {
   "collapsed_sections": [
    "Xljx8j0-_jXR"
   ],
   "name": "GB Lesson 3 new.ipynb",
   "provenance": [
    {
     "file_id": "1wUACz0uWqzoOK_3hxbtwSa5Ho8rdqnkq",
     "timestamp": 1590676828099
    },
    {
     "file_id": "1kk_w4ul_htVz-lBeCx8AjgHFf9No0gVz",
     "timestamp": 1573134395331
    }
   ]
  },
  "kernelspec": {
   "display_name": "Python 3",
   "language": "python",
   "name": "python3"
  },
  "language_info": {
   "codemirror_mode": {
    "name": "ipython",
    "version": 3
   },
   "file_extension": ".py",
   "mimetype": "text/x-python",
   "name": "python",
   "nbconvert_exporter": "python",
   "pygments_lexer": "ipython3",
   "version": "3.7.3"
  }
 },
 "nbformat": 4,
 "nbformat_minor": 1
}
